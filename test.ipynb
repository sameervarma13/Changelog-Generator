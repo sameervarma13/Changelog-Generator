{
 "cells": [
  {
   "cell_type": "code",
   "execution_count": null,
   "metadata": {},
   "outputs": [
    {
     "name": "stdout",
     "output_type": "stream",
     "text": [
      "\n",
      "[DEBUG] API Response Status: 200\n",
      "\n",
      "[DEBUG] Raw API Response:\n",
      " {\"id\":\"msg_01UzAgiVgUgYQXeYt5BXM352\",\"type\":\"message\",\"role\":\"assistant\",\"model\":\"claude-3-5-sonnet-20241022\",\"content\":[{\"type\":\"text\",\"text\":\"# Changelog\\n\\n## Improvements\\n- Enhanced database query performance for better overall system responsiveness\\n\\n## Bug Fixes\\n- Resolved user login issue\\n\\n## Technical Updates\\n- Refactored authentication system for improved maintainability\"}],\"stop_reason\":\"end_turn\",\"stop_sequence\":null,\"usage\":{\"input_tokens\":56,\"cache_creation_input_tokens\":0,\"cache_read_input_tokens\":0,\"output_tokens\":51}}\n",
      "# Changelog\n",
      "\n",
      "## Improvements\n",
      "- Enhanced database query performance for better overall system responsiveness\n",
      "\n",
      "## Bug Fixes\n",
      "- Resolved user login issue\n",
      "\n",
      "## Technical Updates\n",
      "- Refactored authentication system for improved maintainability\n"
     ]
    }
   ],
   "source": [
    "import requests\n",
    "import json\n",
    "\n",
    "# Replace with your actual Mintlify API key\n",
    "API_KEY = \"\"\n",
    "BASE_URL = \"https://mintlify-take-home.com\"\n",
    "ENDPOINT = \"/api/message\"\n",
    "HEADERS = {\n",
    "    \"X-API-Key\": API_KEY,\n",
    "    \"Content-Type\": \"application/json\"\n",
    "}\n",
    "\n",
    "# Dummy commit data\n",
    "dummy_commits = [\n",
    "    \"abcd123 Fixed login issue\",\n",
    "    \"efgh456 Improved database query performance\",\n",
    "    \"ijkl789 Refactored authentication logic\"\n",
    "]\n",
    "\n",
    "# Create a test payload\n",
    "test_payload = {\n",
    "    \"model\": \"claude-3-5-sonnet-latest\",\n",
    "    \"messages\": [\n",
    "        {\n",
    "            \"role\": \"user\",\n",
    "            \"content\": f\"Based on the following git commit messages, generate a changelog that is clear and user-friendly:\\n\\n{chr(10).join(dummy_commits)}\"\n",
    "        }\n",
    "    ],\n",
    "    \"max_tokens\": 4096,\n",
    "    \"temperature\": 0.5\n",
    "}\n",
    "\n",
    "def test_claude_api():\n",
    "    \"\"\"Send a request to Mintlify’s Claude API Proxy with dummy data.\"\"\"\n",
    "    url = BASE_URL + ENDPOINT\n",
    "    response = requests.post(url, headers=HEADERS, json=test_payload)\n",
    "\n",
    "    print(\"\\n[DEBUG] API Response Status:\", response.status_code)\n",
    "    print(\"\\n[DEBUG] Raw API Response:\\n\", response.text)\n",
    "\n",
    "    if response.status_code == 200:\n",
    "        data = response.json()\n",
    "        print(data[\"content\"][0]['text'])\n",
    "    else:\n",
    "        print(\"\\n[ERROR] API request failed.\")\n",
    "\n",
    "if __name__ == \"__main__\":\n",
    "    test_claude_api()\n"
   ]
  },
  {
   "cell_type": "code",
   "execution_count": null,
   "metadata": {},
   "outputs": [],
   "source": []
  }
 ],
 "metadata": {
  "kernelspec": {
   "display_name": "Python 3",
   "language": "python",
   "name": "python3"
  },
  "language_info": {
   "codemirror_mode": {
    "name": "ipython",
    "version": 3
   },
   "file_extension": ".py",
   "mimetype": "text/x-python",
   "name": "python",
   "nbconvert_exporter": "python",
   "pygments_lexer": "ipython3",
   "version": "3.11.3"
  }
 },
 "nbformat": 4,
 "nbformat_minor": 2
}
